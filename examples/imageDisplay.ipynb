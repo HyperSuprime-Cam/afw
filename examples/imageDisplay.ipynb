{
 "metadata": {
  "name": ""
 },
 "nbformat": 3,
 "nbformat_minor": 0,
 "worksheets": [
  {
   "cells": [
    {
     "cell_type": "code",
     "collapsed": false,
     "input": [
      "import lsst.afw.image as afwImage\n",
      "import lsst.afw.display as afwDisplay\n",
      "\n",
      "afwDisplay.setDefaultBackend(\"ds9\" if True else \"virtualDevice\")\n",
      "\n",
      "afwDisplay.delDisplay('all')"
     ],
     "language": "python",
     "metadata": {},
     "outputs": [],
     "prompt_number": 1
    },
    {
     "cell_type": "code",
     "collapsed": false,
     "input": [
      "exp = afwImage.ExposureF(\"data/HSC-0908120-056-small.fits\")"
     ],
     "language": "python",
     "metadata": {},
     "outputs": [],
     "prompt_number": 2
    },
    {
     "cell_type": "code",
     "collapsed": false,
     "input": [
      "display0 = afwDisplay.getDisplay(frame=0, verbose=True)"
     ],
     "language": "python",
     "metadata": {},
     "outputs": [],
     "prompt_number": 3
    },
    {
     "cell_type": "markdown",
     "metadata": {},
     "source": [
      "The workhorse \"display my image\" routine"
     ]
    },
    {
     "cell_type": "code",
     "collapsed": false,
     "input": [
      "display0.mtv(exp, title=\"parent\")"
     ],
     "language": "python",
     "metadata": {},
     "outputs": [],
     "prompt_number": 4
    },
    {
     "cell_type": "markdown",
     "metadata": {},
     "source": [
      "Configure the mask plane transparency (alpha); in percent and draw the CROSSTALK plane in orange"
     ]
    },
    {
     "cell_type": "code",
     "collapsed": false,
     "input": [
      "display0.setMaskTransparency(50)\n",
      "display0.setMaskPlaneColor(\"CROSSTALK\", \"orange\")"
     ],
     "language": "python",
     "metadata": {},
     "outputs": [],
     "prompt_number": 5
    },
    {
     "cell_type": "markdown",
     "metadata": {},
     "source": [
      "Now redisplay that image with some of the mask planes disabled"
     ]
    },
    {
     "cell_type": "code",
     "collapsed": false,
     "input": [
      "for frame in (0, 1):\n",
      "    disp = afwDisplay.getDisplay(frame, verbose=True)\n",
      "    \n",
      "    disp.setMaskTransparency(50)\n",
      "\n",
      "    if frame == 1:\n",
      "        disp.setMaskPlaneColor(\"CROSSTALK\", \"ignore\")\n",
      "    disp.mtv(exp, title=\"parent\")\n",
      "    \n",
      "    disp.erase()\n",
      "    disp.dot('o', 205, 180, size=6, ctype=afwDisplay.RED)"
     ],
     "language": "python",
     "metadata": {},
     "outputs": [],
     "prompt_number": 6
    },
    {
     "cell_type": "markdown",
     "metadata": {},
     "source": [
      "Zoom and pan works too"
     ]
    },
    {
     "cell_type": "code",
     "collapsed": false,
     "input": [
      "display0.pan(205, 180)\n",
      "display0.zoom(4)\n",
      "\n",
      "afwDisplay.getDisplay(1).zoom(4, 205, 180)"
     ],
     "language": "python",
     "metadata": {},
     "outputs": [],
     "prompt_number": 7
    },
    {
     "cell_type": "markdown",
     "metadata": {},
     "source": [
      "Now overlay something, in this case symbols and lines"
     ]
    },
    {
     "cell_type": "code",
     "collapsed": false,
     "input": [
      "display0.show()  # Un-iconise and raise the display to the top of the stacking order if appropriate\n",
      "\n",
      "display0.erase()\n",
      "\n",
      "with display0.Buffering():\n",
      "    display0.dot('o', 200, 220)\n",
      "    vertices = [(200, 220), (210, 230), (224, 230), (214, 220), (200, 220)]\n",
      "    display0.line(vertices, ctype=afwDisplay.CYAN)\n",
      "    display0.line(vertices[:-1], symbs=\"+x+x\", size=3)"
     ],
     "language": "python",
     "metadata": {},
     "outputs": [],
     "prompt_number": 8
    },
    {
     "cell_type": "markdown",
     "metadata": {},
     "source": [
      "Now control the stretch."
     ]
    },
    {
     "cell_type": "code",
     "collapsed": false,
     "input": [
      "display0.show()\n",
      "\n",
      "display0.scaleLimits(\"zscale\")\n",
      "display0.scaleType(\"linear\")"
     ],
     "language": "python",
     "metadata": {},
     "outputs": [],
     "prompt_number": 9
    },
    {
     "cell_type": "markdown",
     "metadata": {},
     "source": [
      "Demonstrate the utility routine to generate mask plane colours (used by e.g. the ds9 implementation of _mtv)"
     ]
    },
    {
     "cell_type": "code",
     "collapsed": false,
     "input": [
      "colorGenerator = display0.maskColorGenerator(omitBW=True)\n",
      "for i in range(10):\n",
      "    print i, next(colorGenerator),"
     ],
     "language": "python",
     "metadata": {},
     "outputs": [
      {
       "output_type": "stream",
       "stream": "stdout",
       "text": [
        "0 red 1 green 2 blue 3 cyan 4 magenta 5 yellow 6 red 7 green 8 blue 9 cyan\n"
       ]
      }
     ],
     "prompt_number": 10
    },
    {
     "cell_type": "markdown",
     "metadata": {},
     "source": [
      "Now the make-an-image-mosaic code.  Start by creating a set of 30x30 images with labels"
     ]
    },
    {
     "cell_type": "code",
     "collapsed": false,
     "input": [
      "images = []\n",
      "labels = []\n",
      "for i in range(1, 4):\n",
      "    im = afwImage.ImageF(30, 30); im[:] = 100*i\n",
      "    images.append(im)\n",
      "    labels.append(\"Label %d\" % i)"
     ],
     "language": "python",
     "metadata": {},
     "outputs": [],
     "prompt_number": 11
    },
    {
     "cell_type": "code",
     "collapsed": false,
     "input": [
      "import lsst.afw.display.utils as dispUtils\n",
      "\n",
      "m = dispUtils.Mosaic()\n",
      "\n",
      "mosaic = m.makeMosaic(images)\n",
      "disp = afwDisplay.getDisplay(frame=2)\n",
      "disp.mtv(mosaic)\n",
      "m.drawLabels(labels, display=disp)"
     ],
     "language": "python",
     "metadata": {},
     "outputs": [],
     "prompt_number": 12
    },
    {
     "cell_type": "code",
     "collapsed": false,
     "input": [
      "m = dispUtils.Mosaic()\n",
      "    \n",
      "m.setGutter(5)\n",
      "m.setBackground(10)\n",
      "m.setMode(\"x\")\n",
      "    \n",
      "for im, lab in zip(images, labels):\n",
      "    m.append(im, lab)\n",
      "    \n",
      "mos = m.makeMosaic(frame=3)        # it's really better to pass a Display object"
     ],
     "language": "python",
     "metadata": {},
     "outputs": [],
     "prompt_number": 13
    }
   ],
   "metadata": {}
  }
 ]
}
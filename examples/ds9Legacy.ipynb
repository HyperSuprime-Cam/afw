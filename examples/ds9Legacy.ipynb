{
 "metadata": {
  "name": ""
 },
 "nbformat": 3,
 "nbformat_minor": 0,
 "worksheets": [
  {
   "cells": [
    {
     "cell_type": "markdown",
     "metadata": {},
     "source": [
      "Illustrate the legacy API, prior to rewriting lsst.afw.display to be able to handle multiple backends"
     ]
    },
    {
     "cell_type": "code",
     "collapsed": false,
     "input": [
      "import lsst.afw.image as afwImage\n",
      "import lsst.afw.display.ds9 as ds9"
     ],
     "language": "python",
     "metadata": {},
     "outputs": [],
     "prompt_number": 34
    },
    {
     "cell_type": "code",
     "collapsed": false,
     "input": [
      "exp = afwImage.ExposureF(\"data/HSC-0908120-056-small.fits\")"
     ],
     "language": "python",
     "metadata": {},
     "outputs": [],
     "prompt_number": 36
    },
    {
     "cell_type": "markdown",
     "metadata": {},
     "source": [
      "If you've already selected a backend (e.g. firefly) you may need to delete displays that have already been\n",
      "created with the frames that you want to use but a different backend.  If you only ever use ds9 this isn't\n",
      "necessary."
     ]
    },
    {
     "cell_type": "code",
     "collapsed": false,
     "input": [
      "import lsst.afw.display as afwDisplay\n",
      "afwDisplay.setDefaultBackend(\"ds9\")\n",
      "afwDisplay.delDisplay(\"all\", force=True)"
     ],
     "language": "python",
     "metadata": {},
     "outputs": [],
     "prompt_number": 35
    },
    {
     "cell_type": "markdown",
     "metadata": {},
     "source": [
      "The workhorse \"display my image\" routine"
     ]
    },
    {
     "cell_type": "code",
     "collapsed": false,
     "input": [
      "ds9.mtv(exp, title=\"parent\", frame=1)"
     ],
     "language": "python",
     "metadata": {},
     "outputs": [],
     "prompt_number": 37
    },
    {
     "cell_type": "markdown",
     "metadata": {},
     "source": [
      "Configure the mask plane transparency (alpha); in percent and draw the CROSSTALK plane in orange"
     ]
    },
    {
     "cell_type": "code",
     "collapsed": false,
     "input": [
      "ds9.setMaskTransparency(50)\n",
      "ds9.setMaskPlaneColor(\"CROSSTALK\", \"orange\")"
     ],
     "language": "python",
     "metadata": {},
     "outputs": [],
     "prompt_number": 38
    },
    {
     "cell_type": "markdown",
     "metadata": {},
     "source": [
      "Now redisplay that image with some of the mask planes disabled"
     ]
    },
    {
     "cell_type": "code",
     "collapsed": false,
     "input": [
      "for frame in (0, 1):    \n",
      "    ds9.setMaskTransparency(50, frame=frame)\n",
      "\n",
      "    if frame == 1:\n",
      "        ds9.setMaskPlaneColor(\"CROSSTALK\", \"ignore\", frame=frame)\n",
      "    ds9.mtv(exp, title=\"parent\", frame=frame)\n",
      "    \n",
      "    ds9.erase(frame=frame)\n",
      "    ds9.dot('o', 205, 180, size=6, ctype=ds9.RED, frame=frame)"
     ],
     "language": "python",
     "metadata": {},
     "outputs": [],
     "prompt_number": 39
    },
    {
     "cell_type": "markdown",
     "metadata": {},
     "source": [
      "Zoom and pan works too"
     ]
    },
    {
     "cell_type": "code",
     "collapsed": false,
     "input": [
      "ds9.pan(205, 180)\n",
      "ds9.zoom(4)\n",
      "\n",
      "ds9.zoom(4, 205, 180, frame=1)"
     ],
     "language": "python",
     "metadata": {},
     "outputs": [],
     "prompt_number": 40
    },
    {
     "cell_type": "markdown",
     "metadata": {},
     "source": [
      "Now overlay something, in this case symbols and lines"
     ]
    },
    {
     "cell_type": "code",
     "collapsed": false,
     "input": [
      "ds9.show()  # Un-iconise and raise the display to the top of the stacking order if appropriate\n",
      "\n",
      "ds9.erase()\n",
      "\n",
      "with ds9.Buffering():\n",
      "    ds9.dot('o', 200, 220)\n",
      "    vertices = [(200, 220), (210, 230), (224, 230), (214, 220), (200, 220)]\n",
      "    ds9.line(vertices, ctype=afwDisplay.CYAN)\n",
      "    ds9.line(vertices[:-1], symbs=\"+x+x\", size=3)"
     ],
     "language": "python",
     "metadata": {},
     "outputs": [],
     "prompt_number": 41
    },
    {
     "cell_type": "markdown",
     "metadata": {},
     "source": [
      "Now control the stretch."
     ]
    },
    {
     "cell_type": "code",
     "collapsed": false,
     "input": [
      "ds9.show()\n",
      "\n",
      "ds9.scaleLimits(\"zscale\")\n",
      "ds9.scaleType(\"linear\")"
     ],
     "language": "python",
     "metadata": {},
     "outputs": [],
     "prompt_number": 42
    }
   ],
   "metadata": {}
  }
 ]
}